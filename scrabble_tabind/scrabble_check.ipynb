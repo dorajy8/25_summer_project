{
 "cells": [
  {
   "cell_type": "code",
   "execution_count": null,
   "id": "4b1d253e",
   "metadata": {},
   "outputs": [
    {
     "name": "stdout",
     "output_type": "stream",
     "text": [
      "Finding all word combinations...\n",
      "\n",
      "--- Alphabetical List of Scrabble Words ---\n",
      "['ab', 'ad', 'adit', 'ai', 'aid', 'ain', 'ait', 'an', 'and', 'ani', 'ant', 'anti', 'at', 'ba', 'bad', 'bait', 'ban', 'band', 'bandit', 'bani', 'bat', 'bi', 'bid', 'bin', 'bind', 'bint', 'bit', 'dab', 'dan', 'dib', 'din', 'dint', 'dit', 'dita', 'id', 'in', 'it', 'na', 'nab', 'nib', 'nit', 'ta', 'tab', 'tabid', 'tad', 'tain', 'tan', 'ti', 'tin']\n"
     ]
    }
   ],
   "source": [
    "import itertools\n",
    "\n",
    "def load_word_list(file_path):\n",
    "    \"\"\"Loads words from a text file into a fast lookup set.\"\"\"\n",
    "    with open(file_path, 'r') as file:\n",
    "        # A 'set' provides very fast lookups, which is perfect for this.\n",
    "        words = set(line.strip().lower() for line in file)\n",
    "    return words\n",
    "\n",
    "def find_scrabble_words(letters, word_set):\n",
    "    \"\"\"Finds valid Scrabble words by checking against the loaded scrabble words dictionary file\"\"\"\n",
    "    valid_words = set()\n",
    "\n",
    "    # Generate permutations of all possible lengths from the given letter combinations\n",
    "    for i in range(2, len(letters) + 1):\n",
    "        for p in itertools.permutations(letters, i):\n",
    "            word = \"\".join(p)\n",
    "            \n",
    "            # Check if the generated word exists in our word set\n",
    "            if word in word_set:\n",
    "                valid_words.add(word)\n",
    "\n",
    "    return sorted(list(valid_words))\n",
    "\n",
    "# --- Main Program ---\n",
    "# The main goal of this program is to create a lists of all valid Scrabble words \n",
    "# that can be formed from a given set of letters. \n",
    "# It first generates all possible permutations of the input letters and checks them \n",
    "# against a local scrabble dictionary file to produce an alphabetized list of valid words.\n",
    "try:\n",
    "    # Load the dictionary from the file we saved\n",
    "    scrabble_dictionary = load_word_list('words.txt')\n",
    "    \n",
    "    my_letters = \"tabind\"\n",
    "    found_words = find_scrabble_words(my_letters, scrabble_dictionary)\n",
    "\n",
    "    print(\"\\n--- Alphabetical List of Scrabble Words ---\")\n",
    "    print(found_words)\n",
    "\n",
    "except FileNotFoundError:\n",
    "    print(\"ERROR: 'words.txt' not found.\")"
   ]
  }
 ],
 "metadata": {
  "kernelspec": {
   "display_name": "base",
   "language": "python",
   "name": "python3"
  },
  "language_info": {
   "codemirror_mode": {
    "name": "ipython",
    "version": 3
   },
   "file_extension": ".py",
   "mimetype": "text/x-python",
   "name": "python",
   "nbconvert_exporter": "python",
   "pygments_lexer": "ipython3",
   "version": "3.11.7"
  }
 },
 "nbformat": 4,
 "nbformat_minor": 5
}
